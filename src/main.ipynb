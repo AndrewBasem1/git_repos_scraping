{
 "cells": [
  {
   "cell_type": "markdown",
   "metadata": {},
   "source": [
    "# Importing needed modules"
   ]
  },
  {
   "cell_type": "code",
   "execution_count": null,
   "metadata": {},
   "outputs": [],
   "source": [
    "from custom_modules.github_scraper import export_github_access_token_to_env_var\n",
    "from custom_modules.github_scraper import get_github_repo_pull_requests_filterd_data\n",
    "from custom_modules.bitbucket_scraper import export_bitbucket_username_and_app_password_to_env_var\n",
    "from custom_modules.bitbucket_scraper import get_bitbucket_repo_pull_requests_filterd_data\n",
    "from custom_modules.data_analyzer import analyze_scrapers_filtered_data\n",
    "from custom_modules.plotter_funcs import plot_merged_pr_counts_per_day\n",
    "from custom_modules.plotter_funcs import plot_approvers_list\n",
    "from custom_modules.plotter_funcs import plot_str_matches\n",
    "from custom_modules.plotter_funcs import plot_str_matches_date_drill_down"
   ]
  },
  {
   "cell_type": "markdown",
   "metadata": {},
   "source": [
    "# GITHUB"
   ]
  },
  {
   "cell_type": "markdown",
   "metadata": {},
   "source": [
    "## authentication"
   ]
  },
  {
   "cell_type": "code",
   "execution_count": null,
   "metadata": {},
   "outputs": [],
   "source": [
    "github_access_token = r'<Please change this str with your access token>'\n",
    "export_github_access_token_to_env_var(github_access_token)"
   ]
  },
  {
   "cell_type": "markdown",
   "metadata": {},
   "source": [
    "## Github query user input"
   ]
  },
  {
   "cell_type": "code",
   "execution_count": null,
   "metadata": {},
   "outputs": [],
   "source": [
    "github_repo_url = r\"<enter your github repo url here>\" # the repo url to analyze\n",
    "github_days_to_analyze = 30 # the number of days to analyze\n",
    "github_str_vars_to_check = ['api','version','google','bug','fix','data','column','row'] # the list of str vars to check in the PRs title or body (e.g. ['bug', 'fix', 'issue'])"
   ]
  },
  {
   "cell_type": "markdown",
   "metadata": {},
   "source": [
    "## Pulling the data"
   ]
  },
  {
   "cell_type": "code",
   "execution_count": null,
   "metadata": {},
   "outputs": [],
   "source": [
    "github_pr_data = get_github_repo_pull_requests_filterd_data(github_repo_url, github_days_to_analyze)\n",
    "# uncomment the next line to see the raw data\n",
    "# print(github_pr_data)"
   ]
  },
  {
   "cell_type": "markdown",
   "metadata": {},
   "source": [
    "## Analyzing the data"
   ]
  },
  {
   "cell_type": "code",
   "execution_count": null,
   "metadata": {},
   "outputs": [],
   "source": [
    "github_analysis = analyze_scrapers_filtered_data(github_pr_data, str_vars_to_check=github_str_vars_to_check)\n",
    "# uncomment the next line to see the analysis\n",
    "# print(github_analysis)"
   ]
  },
  {
   "cell_type": "markdown",
   "metadata": {},
   "source": [
    "## plotting github data"
   ]
  },
  {
   "cell_type": "code",
   "execution_count": null,
   "metadata": {},
   "outputs": [],
   "source": [
    "merged_pr_counter_per_day = github_analysis['merged_pr_counter_per_day']\n",
    "approvers_counter = github_analysis['approvers_counter']\n",
    "str_matches_counter = github_analysis['str_matches_counter']\n",
    "str_matches_date_counter = github_analysis['str_matches_date_counter']"
   ]
  },
  {
   "cell_type": "code",
   "execution_count": null,
   "metadata": {},
   "outputs": [],
   "source": [
    "plot_merged_pr_counts_per_day(merged_pr_counter_per_day)"
   ]
  },
  {
   "cell_type": "code",
   "execution_count": null,
   "metadata": {},
   "outputs": [],
   "source": [
    "plot_approvers_list(approvers_counter)"
   ]
  },
  {
   "cell_type": "code",
   "execution_count": null,
   "metadata": {},
   "outputs": [],
   "source": [
    "plot_str_matches(str_matches_counter)"
   ]
  },
  {
   "cell_type": "code",
   "execution_count": null,
   "metadata": {},
   "outputs": [],
   "source": [
    "plot_str_matches_date_drill_down(str_matches_date_counter, str_vars_to_check=github_str_vars_to_check)"
   ]
  },
  {
   "cell_type": "markdown",
   "metadata": {},
   "source": [
    "# BITBUCKET"
   ]
  },
  {
   "cell_type": "markdown",
   "metadata": {},
   "source": [
    "## Authentication"
   ]
  },
  {
   "cell_type": "code",
   "execution_count": null,
   "metadata": {},
   "outputs": [],
   "source": [
    "bitbucket_username = r'<input your bitbucket username here>'\n",
    "bitbucket_app_password = r'<input your bitbucket app password here>'\n",
    "export_bitbucket_username_and_app_password_to_env_var(bitbucket_username, bitbucket_app_password)"
   ]
  },
  {
   "cell_type": "markdown",
   "metadata": {},
   "source": [
    "## Bitbucket query user input"
   ]
  },
  {
   "cell_type": "code",
   "execution_count": null,
   "metadata": {},
   "outputs": [],
   "source": [
    "bitbucket_repo_url = r\"https://bitbucket.org/fargo3d/public/src/bb3829f0c860c774e09f9c7299a0c36863fe19d5/?at=release%2Fpublic\"\n",
    "bitbucket_days_to_analyze = 120\n",
    "bitbucket_vars_to_check = ['bug', 'fix', 'issue']"
   ]
  },
  {
   "cell_type": "markdown",
   "metadata": {},
   "source": [
    "## Pulling the data"
   ]
  },
  {
   "cell_type": "code",
   "execution_count": null,
   "metadata": {},
   "outputs": [],
   "source": [
    "bitbucket_pr_data = get_bitbucket_repo_pull_requests_filterd_data(bitbucket_repo_url, bitbucket_days_to_analyze)\n",
    "# uncomment the next line to see the raw data\n",
    "# print(bitbucket_pr_data)"
   ]
  },
  {
   "cell_type": "markdown",
   "metadata": {},
   "source": [
    "## Analyzing the data"
   ]
  },
  {
   "cell_type": "code",
   "execution_count": null,
   "metadata": {},
   "outputs": [],
   "source": [
    "bitbucket_analysis = analyze_scrapers_filtered_data(bitbucket_pr_data, str_vars_to_check=bitbucket_vars_to_check)\n",
    "# uncomment the next line to see the raw analysis data\n",
    "# print(bitbucket_analysis)"
   ]
  },
  {
   "cell_type": "markdown",
   "metadata": {},
   "source": [
    "## Plotting the data"
   ]
  },
  {
   "cell_type": "code",
   "execution_count": null,
   "metadata": {},
   "outputs": [],
   "source": [
    "merged_pr_counter_per_day = bitbucket_analysis['merged_pr_counter_per_day']\n",
    "approvers_counter = bitbucket_analysis['approvers_counter']\n",
    "str_matches_counter = bitbucket_analysis['str_matches_counter']\n",
    "str_matches_date_counter = bitbucket_analysis['str_matches_date_counter']"
   ]
  },
  {
   "cell_type": "code",
   "execution_count": null,
   "metadata": {},
   "outputs": [],
   "source": [
    "plot_merged_pr_counts_per_day(merged_pr_counter_per_day)"
   ]
  },
  {
   "cell_type": "code",
   "execution_count": null,
   "metadata": {},
   "outputs": [],
   "source": [
    "plot_approvers_list(approvers_counter)"
   ]
  },
  {
   "cell_type": "code",
   "execution_count": null,
   "metadata": {},
   "outputs": [],
   "source": [
    "plot_str_matches(str_matches_counter)"
   ]
  },
  {
   "cell_type": "code",
   "execution_count": null,
   "metadata": {},
   "outputs": [],
   "source": [
    "plot_str_matches_date_drill_down(str_matches_date_counter, str_vars_to_check=bitbucket_vars_to_check)"
   ]
  }
 ],
 "metadata": {
  "kernelspec": {
   "display_name": "git_repos_scraping_env",
   "language": "python",
   "name": "python3"
  },
  "language_info": {
   "codemirror_mode": {
    "name": "ipython",
    "version": 3
   },
   "file_extension": ".py",
   "mimetype": "text/x-python",
   "name": "python",
   "nbconvert_exporter": "python",
   "pygments_lexer": "ipython3",
   "version": "3.10.12"
  },
  "orig_nbformat": 4
 },
 "nbformat": 4,
 "nbformat_minor": 2
}
